{
 "cells": [
  {
   "cell_type": "code",
   "execution_count": 1,
   "metadata": {},
   "outputs": [],
   "source": [
    "text = ['NLP', 'Projects', 'Project', 'Name', ':']\n",
    "start_of_p = [1, 2, 1, 2, 2]\n",
    "bold = [1, 1, 1, 1, 2]\n",
    "center = [1, 1, 2, 2, 2]\n",
    "label = ['B-Category', 'I-Category', 'B-Project-name', 'I-Project-name', 'I-Project-name']\n"
   ]
  },
  {
   "cell_type": "code",
   "execution_count": 25,
   "metadata": {
    "scrolled": true
   },
   "outputs": [
    {
     "name": "stderr",
     "output_type": "stream",
     "text": [
      "DEBUG:root:need to build after build_word2idx\n",
      "DEBUG:root:build token2idx dict finished, contains 9 tokens.\n",
      "DEBUG:root:build label2idx dict finished, contains 5 labels.\n"
     ]
    },
    {
     "name": "stdout",
     "output_type": "stream",
     "text": [
      "Tensor(\"input_10:0\", shape=(?, 100), dtype=float32)\n",
      "[<tf.Tensor 'input_10:0' shape=(?, 100) dtype=float32>]\n",
      "Tensor(\"input_start_of_p_5:0\", shape=(?, 100), dtype=float32)\n",
      "[<tf.Tensor 'input_start_of_p_5:0' shape=(?, 100) dtype=float32>]\n",
      "Tensor(\"input_bold_5:0\", shape=(?, 100), dtype=float32)\n",
      "[<tf.Tensor 'input_bold_5:0' shape=(?, 100) dtype=float32>]\n",
      "Tensor(\"input_center_5:0\", shape=(?, 100), dtype=float32)\n",
      "[<tf.Tensor 'input_center_5:0' shape=(?, 100) dtype=float32>]\n",
      "[[[ 0.03853906 -0.01505075  0.02251858 ... -0.00520362 -0.01488753\n",
      "    0.00806548]\n",
      "  [ 0.04918376  0.02822025 -0.00733416 ... -0.00520362 -0.01488753\n",
      "    0.00806548]\n",
      "  [-0.03669213 -0.04050888 -0.01923651 ... -0.04418175  0.04246298\n",
      "    0.02709477]\n",
      "  ...\n",
      "  [ 0.03893903 -0.0222299  -0.01221905 ...  0.02722077 -0.01538815\n",
      "    0.00597449]\n",
      "  [ 0.03893903 -0.0222299  -0.01221905 ...  0.02722077 -0.01538815\n",
      "    0.00597449]\n",
      "  [ 0.03893903 -0.0222299  -0.01221905 ...  0.02722077 -0.01538815\n",
      "    0.00597449]]\n",
      "\n",
      " [[ 0.03853906 -0.01505075  0.02251858 ... -0.00520362 -0.01488753\n",
      "    0.00806548]\n",
      "  [ 0.04918376  0.02822025 -0.00733416 ... -0.00520362 -0.01488753\n",
      "    0.00806548]\n",
      "  [-0.03669213 -0.04050888 -0.01923651 ... -0.04418175  0.04246298\n",
      "    0.02709477]\n",
      "  ...\n",
      "  [ 0.03893903 -0.0222299  -0.01221905 ...  0.02722077 -0.01538815\n",
      "    0.00597449]\n",
      "  [ 0.03893903 -0.0222299  -0.01221905 ...  0.02722077 -0.01538815\n",
      "    0.00597449]\n",
      "  [ 0.03893903 -0.0222299  -0.01221905 ...  0.02722077 -0.01538815\n",
      "    0.00597449]]\n",
      "\n",
      " [[ 0.03853906 -0.01505075  0.02251858 ... -0.00520362 -0.01488753\n",
      "    0.00806548]\n",
      "  [ 0.04918376  0.02822025 -0.00733416 ... -0.00520362 -0.01488753\n",
      "    0.00806548]\n",
      "  [-0.03669213 -0.04050888 -0.01923651 ... -0.04418175  0.04246298\n",
      "    0.02709477]\n",
      "  ...\n",
      "  [ 0.03893903 -0.0222299  -0.01221905 ...  0.02722077 -0.01538815\n",
      "    0.00597449]\n",
      "  [ 0.03893903 -0.0222299  -0.01221905 ...  0.02722077 -0.01538815\n",
      "    0.00597449]\n",
      "  [ 0.03893903 -0.0222299  -0.01221905 ...  0.02722077 -0.01538815\n",
      "    0.00597449]]\n",
      "\n",
      " ...\n",
      "\n",
      " [[ 0.03853906 -0.01505075  0.02251858 ... -0.00520362 -0.01488753\n",
      "    0.00806548]\n",
      "  [ 0.04918376  0.02822025 -0.00733416 ... -0.00520362 -0.01488753\n",
      "    0.00806548]\n",
      "  [-0.03669213 -0.04050888 -0.01923651 ... -0.04418175  0.04246298\n",
      "    0.02709477]\n",
      "  ...\n",
      "  [ 0.03893903 -0.0222299  -0.01221905 ...  0.02722077 -0.01538815\n",
      "    0.00597449]\n",
      "  [ 0.03893903 -0.0222299  -0.01221905 ...  0.02722077 -0.01538815\n",
      "    0.00597449]\n",
      "  [ 0.03893903 -0.0222299  -0.01221905 ...  0.02722077 -0.01538815\n",
      "    0.00597449]]\n",
      "\n",
      " [[ 0.03853906 -0.01505075  0.02251858 ... -0.00520362 -0.01488753\n",
      "    0.00806548]\n",
      "  [ 0.04918376  0.02822025 -0.00733416 ... -0.00520362 -0.01488753\n",
      "    0.00806548]\n",
      "  [-0.03669213 -0.04050888 -0.01923651 ... -0.04418175  0.04246298\n",
      "    0.02709477]\n",
      "  ...\n",
      "  [ 0.03893903 -0.0222299  -0.01221905 ...  0.02722077 -0.01538815\n",
      "    0.00597449]\n",
      "  [ 0.03893903 -0.0222299  -0.01221905 ...  0.02722077 -0.01538815\n",
      "    0.00597449]\n",
      "  [ 0.03893903 -0.0222299  -0.01221905 ...  0.02722077 -0.01538815\n",
      "    0.00597449]]\n",
      "\n",
      " [[ 0.03853906 -0.01505075  0.02251858 ... -0.00520362 -0.01488753\n",
      "    0.00806548]\n",
      "  [ 0.04918376  0.02822025 -0.00733416 ... -0.00520362 -0.01488753\n",
      "    0.00806548]\n",
      "  [-0.03669213 -0.04050888 -0.01923651 ... -0.04418175  0.04246298\n",
      "    0.02709477]\n",
      "  ...\n",
      "  [ 0.03893903 -0.0222299  -0.01221905 ...  0.02722077 -0.01538815\n",
      "    0.00597449]\n",
      "  [ 0.03893903 -0.0222299  -0.01221905 ...  0.02722077 -0.01538815\n",
      "    0.00597449]\n",
      "  [ 0.03893903 -0.0222299  -0.01221905 ...  0.02722077 -0.01538815\n",
      "    0.00597449]]]\n"
     ]
    }
   ],
   "source": [
    "import kashgari\n",
    "from kashgari.embeddings import NumericFeaturesEmbedding, BareEmbedding, StackedEmbedding\n",
    "\n",
    "import logging\n",
    "logging.basicConfig(level='DEBUG')\n",
    "\n",
    "text = ['NLP', 'Projects', 'Project', 'Name', ':']\n",
    "start_of_p = [1, 2, 1, 2, 2]\n",
    "bold = [1, 1, 1, 1, 2]\n",
    "center = [1, 1, 2, 2, 2]\n",
    "label = ['B-Category', 'I-Category', 'B-ProjectName', 'I-ProjectName', 'I-ProjectName']\n",
    "\n",
    "text_list = [text]*100\n",
    "start_of_p_list = [start_of_p]*100\n",
    "bold_list = [bold]*100\n",
    "center_list = [center]*100\n",
    "label_list = [label]*100\n",
    "\n",
    "\n",
    "SEQUENCE_LEN = 100\n",
    "\n",
    "# You can use Word Embedding or BERT Embedding for your text embedding\n",
    "text_embedding = BareEmbedding(task=kashgari.LABELING, sequence_length=SEQUENCE_LEN)\n",
    "start_of_p_embedding = NumericFeaturesEmbedding(feature_count=2,\n",
    "                                                feature_name='start_of_p',\n",
    "                                                sequence_length=SEQUENCE_LEN)\n",
    "\n",
    "bold_embedding = NumericFeaturesEmbedding(feature_count=2,\n",
    "                                                feature_name='bold',\n",
    "                                                sequence_length=SEQUENCE_LEN)\n",
    "\n",
    "center_embedding = NumericFeaturesEmbedding(feature_count=2,\n",
    "                                                feature_name='center',\n",
    "                                                sequence_length=SEQUENCE_LEN)\n",
    "\n",
    "# first attribute, must be the text embedding\n",
    "stack_embedding = StackedEmbedding([\n",
    "    text_embedding,\n",
    "    start_of_p_embedding,\n",
    "    bold_embedding,\n",
    "    center_embedding\n",
    "])\n",
    "\n",
    "x = (text_list, start_of_p_list, bold_list, center_list)\n",
    "y = label_list\n",
    "stack_embedding.analyze_corpus(x, y)\n",
    "\n",
    "# Now we can embed using this stacked embedding layer\n",
    "print(stack_embedding.embed(x))"
   ]
  },
  {
   "cell_type": "code",
   "execution_count": 26,
   "metadata": {},
   "outputs": [
    {
     "name": "stdout",
     "output_type": "stream",
     "text": [
      "[[1, 1, 1, 1, 2], [1, 1, 1, 1, 2], [1, 1, 1, 1, 2], [1, 1, 1, 1, 2], [1, 1, 1, 1, 2], [1, 1, 1, 1, 2], [1, 1, 1, 1, 2], [1, 1, 1, 1, 2], [1, 1, 1, 1, 2], [1, 1, 1, 1, 2], [1, 1, 1, 1, 2], [1, 1, 1, 1, 2], [1, 1, 1, 1, 2], [1, 1, 1, 1, 2], [1, 1, 1, 1, 2], [1, 1, 1, 1, 2], [1, 1, 1, 1, 2], [1, 1, 1, 1, 2], [1, 1, 1, 1, 2], [1, 1, 1, 1, 2], [1, 1, 1, 1, 2], [1, 1, 1, 1, 2], [1, 1, 1, 1, 2], [1, 1, 1, 1, 2], [1, 1, 1, 1, 2], [1, 1, 1, 1, 2], [1, 1, 1, 1, 2], [1, 1, 1, 1, 2], [1, 1, 1, 1, 2], [1, 1, 1, 1, 2], [1, 1, 1, 1, 2], [1, 1, 1, 1, 2], [1, 1, 1, 1, 2], [1, 1, 1, 1, 2], [1, 1, 1, 1, 2], [1, 1, 1, 1, 2], [1, 1, 1, 1, 2], [1, 1, 1, 1, 2], [1, 1, 1, 1, 2], [1, 1, 1, 1, 2], [1, 1, 1, 1, 2], [1, 1, 1, 1, 2], [1, 1, 1, 1, 2], [1, 1, 1, 1, 2], [1, 1, 1, 1, 2], [1, 1, 1, 1, 2], [1, 1, 1, 1, 2], [1, 1, 1, 1, 2], [1, 1, 1, 1, 2], [1, 1, 1, 1, 2], [1, 1, 1, 1, 2], [1, 1, 1, 1, 2], [1, 1, 1, 1, 2], [1, 1, 1, 1, 2], [1, 1, 1, 1, 2], [1, 1, 1, 1, 2], [1, 1, 1, 1, 2], [1, 1, 1, 1, 2], [1, 1, 1, 1, 2], [1, 1, 1, 1, 2], [1, 1, 1, 1, 2], [1, 1, 1, 1, 2], [1, 1, 1, 1, 2], [1, 1, 1, 1, 2], [1, 1, 1, 1, 2], [1, 1, 1, 1, 2], [1, 1, 1, 1, 2], [1, 1, 1, 1, 2], [1, 1, 1, 1, 2], [1, 1, 1, 1, 2], [1, 1, 1, 1, 2], [1, 1, 1, 1, 2], [1, 1, 1, 1, 2], [1, 1, 1, 1, 2], [1, 1, 1, 1, 2], [1, 1, 1, 1, 2], [1, 1, 1, 1, 2], [1, 1, 1, 1, 2], [1, 1, 1, 1, 2], [1, 1, 1, 1, 2], [1, 1, 1, 1, 2], [1, 1, 1, 1, 2], [1, 1, 1, 1, 2], [1, 1, 1, 1, 2], [1, 1, 1, 1, 2], [1, 1, 1, 1, 2], [1, 1, 1, 1, 2], [1, 1, 1, 1, 2], [1, 1, 1, 1, 2], [1, 1, 1, 1, 2], [1, 1, 1, 1, 2], [1, 1, 1, 1, 2], [1, 1, 1, 1, 2], [1, 1, 1, 1, 2], [1, 1, 1, 1, 2], [1, 1, 1, 1, 2], [1, 1, 1, 1, 2], [1, 1, 1, 1, 2], [1, 1, 1, 1, 2], [1, 1, 1, 1, 2]]\n"
     ]
    }
   ],
   "source": [
    "print(bold_list)"
   ]
  },
  {
   "cell_type": "code",
   "execution_count": 27,
   "metadata": {},
   "outputs": [
    {
     "name": "stdout",
     "output_type": "stream",
     "text": [
      "([['NLP', 'Projects', 'Project', 'Name', ':'], ['NLP', 'Projects', 'Project', 'Name', ':'], ['NLP', 'Projects', 'Project', 'Name', ':'], ['NLP', 'Projects', 'Project', 'Name', ':'], ['NLP', 'Projects', 'Project', 'Name', ':'], ['NLP', 'Projects', 'Project', 'Name', ':'], ['NLP', 'Projects', 'Project', 'Name', ':'], ['NLP', 'Projects', 'Project', 'Name', ':'], ['NLP', 'Projects', 'Project', 'Name', ':'], ['NLP', 'Projects', 'Project', 'Name', ':'], ['NLP', 'Projects', 'Project', 'Name', ':'], ['NLP', 'Projects', 'Project', 'Name', ':'], ['NLP', 'Projects', 'Project', 'Name', ':'], ['NLP', 'Projects', 'Project', 'Name', ':'], ['NLP', 'Projects', 'Project', 'Name', ':'], ['NLP', 'Projects', 'Project', 'Name', ':'], ['NLP', 'Projects', 'Project', 'Name', ':'], ['NLP', 'Projects', 'Project', 'Name', ':'], ['NLP', 'Projects', 'Project', 'Name', ':'], ['NLP', 'Projects', 'Project', 'Name', ':'], ['NLP', 'Projects', 'Project', 'Name', ':'], ['NLP', 'Projects', 'Project', 'Name', ':'], ['NLP', 'Projects', 'Project', 'Name', ':'], ['NLP', 'Projects', 'Project', 'Name', ':'], ['NLP', 'Projects', 'Project', 'Name', ':'], ['NLP', 'Projects', 'Project', 'Name', ':'], ['NLP', 'Projects', 'Project', 'Name', ':'], ['NLP', 'Projects', 'Project', 'Name', ':'], ['NLP', 'Projects', 'Project', 'Name', ':'], ['NLP', 'Projects', 'Project', 'Name', ':'], ['NLP', 'Projects', 'Project', 'Name', ':'], ['NLP', 'Projects', 'Project', 'Name', ':'], ['NLP', 'Projects', 'Project', 'Name', ':'], ['NLP', 'Projects', 'Project', 'Name', ':'], ['NLP', 'Projects', 'Project', 'Name', ':'], ['NLP', 'Projects', 'Project', 'Name', ':'], ['NLP', 'Projects', 'Project', 'Name', ':'], ['NLP', 'Projects', 'Project', 'Name', ':'], ['NLP', 'Projects', 'Project', 'Name', ':'], ['NLP', 'Projects', 'Project', 'Name', ':'], ['NLP', 'Projects', 'Project', 'Name', ':'], ['NLP', 'Projects', 'Project', 'Name', ':'], ['NLP', 'Projects', 'Project', 'Name', ':'], ['NLP', 'Projects', 'Project', 'Name', ':'], ['NLP', 'Projects', 'Project', 'Name', ':'], ['NLP', 'Projects', 'Project', 'Name', ':'], ['NLP', 'Projects', 'Project', 'Name', ':'], ['NLP', 'Projects', 'Project', 'Name', ':'], ['NLP', 'Projects', 'Project', 'Name', ':'], ['NLP', 'Projects', 'Project', 'Name', ':'], ['NLP', 'Projects', 'Project', 'Name', ':'], ['NLP', 'Projects', 'Project', 'Name', ':'], ['NLP', 'Projects', 'Project', 'Name', ':'], ['NLP', 'Projects', 'Project', 'Name', ':'], ['NLP', 'Projects', 'Project', 'Name', ':'], ['NLP', 'Projects', 'Project', 'Name', ':'], ['NLP', 'Projects', 'Project', 'Name', ':'], ['NLP', 'Projects', 'Project', 'Name', ':'], ['NLP', 'Projects', 'Project', 'Name', ':'], ['NLP', 'Projects', 'Project', 'Name', ':'], ['NLP', 'Projects', 'Project', 'Name', ':'], ['NLP', 'Projects', 'Project', 'Name', ':'], ['NLP', 'Projects', 'Project', 'Name', ':'], ['NLP', 'Projects', 'Project', 'Name', ':'], ['NLP', 'Projects', 'Project', 'Name', ':'], ['NLP', 'Projects', 'Project', 'Name', ':'], ['NLP', 'Projects', 'Project', 'Name', ':'], ['NLP', 'Projects', 'Project', 'Name', ':'], ['NLP', 'Projects', 'Project', 'Name', ':'], ['NLP', 'Projects', 'Project', 'Name', ':'], ['NLP', 'Projects', 'Project', 'Name', ':'], ['NLP', 'Projects', 'Project', 'Name', ':'], ['NLP', 'Projects', 'Project', 'Name', ':'], ['NLP', 'Projects', 'Project', 'Name', ':'], ['NLP', 'Projects', 'Project', 'Name', ':'], ['NLP', 'Projects', 'Project', 'Name', ':'], ['NLP', 'Projects', 'Project', 'Name', ':'], ['NLP', 'Projects', 'Project', 'Name', ':'], ['NLP', 'Projects', 'Project', 'Name', ':'], ['NLP', 'Projects', 'Project', 'Name', ':'], ['NLP', 'Projects', 'Project', 'Name', ':'], ['NLP', 'Projects', 'Project', 'Name', ':'], ['NLP', 'Projects', 'Project', 'Name', ':'], ['NLP', 'Projects', 'Project', 'Name', ':'], ['NLP', 'Projects', 'Project', 'Name', ':'], ['NLP', 'Projects', 'Project', 'Name', ':'], ['NLP', 'Projects', 'Project', 'Name', ':'], ['NLP', 'Projects', 'Project', 'Name', ':'], ['NLP', 'Projects', 'Project', 'Name', ':'], ['NLP', 'Projects', 'Project', 'Name', ':'], ['NLP', 'Projects', 'Project', 'Name', ':'], ['NLP', 'Projects', 'Project', 'Name', ':'], ['NLP', 'Projects', 'Project', 'Name', ':'], ['NLP', 'Projects', 'Project', 'Name', ':'], ['NLP', 'Projects', 'Project', 'Name', ':'], ['NLP', 'Projects', 'Project', 'Name', ':'], ['NLP', 'Projects', 'Project', 'Name', ':'], ['NLP', 'Projects', 'Project', 'Name', ':'], ['NLP', 'Projects', 'Project', 'Name', ':'], ['NLP', 'Projects', 'Project', 'Name', ':']], [[1, 2, 1, 2, 2], [1, 2, 1, 2, 2], [1, 2, 1, 2, 2], [1, 2, 1, 2, 2], [1, 2, 1, 2, 2], [1, 2, 1, 2, 2], [1, 2, 1, 2, 2], [1, 2, 1, 2, 2], [1, 2, 1, 2, 2], [1, 2, 1, 2, 2], [1, 2, 1, 2, 2], [1, 2, 1, 2, 2], [1, 2, 1, 2, 2], [1, 2, 1, 2, 2], [1, 2, 1, 2, 2], [1, 2, 1, 2, 2], [1, 2, 1, 2, 2], [1, 2, 1, 2, 2], [1, 2, 1, 2, 2], [1, 2, 1, 2, 2], [1, 2, 1, 2, 2], [1, 2, 1, 2, 2], [1, 2, 1, 2, 2], [1, 2, 1, 2, 2], [1, 2, 1, 2, 2], [1, 2, 1, 2, 2], [1, 2, 1, 2, 2], [1, 2, 1, 2, 2], [1, 2, 1, 2, 2], [1, 2, 1, 2, 2], [1, 2, 1, 2, 2], [1, 2, 1, 2, 2], [1, 2, 1, 2, 2], [1, 2, 1, 2, 2], [1, 2, 1, 2, 2], [1, 2, 1, 2, 2], [1, 2, 1, 2, 2], [1, 2, 1, 2, 2], [1, 2, 1, 2, 2], [1, 2, 1, 2, 2], [1, 2, 1, 2, 2], [1, 2, 1, 2, 2], [1, 2, 1, 2, 2], [1, 2, 1, 2, 2], [1, 2, 1, 2, 2], [1, 2, 1, 2, 2], [1, 2, 1, 2, 2], [1, 2, 1, 2, 2], [1, 2, 1, 2, 2], [1, 2, 1, 2, 2], [1, 2, 1, 2, 2], [1, 2, 1, 2, 2], [1, 2, 1, 2, 2], [1, 2, 1, 2, 2], [1, 2, 1, 2, 2], [1, 2, 1, 2, 2], [1, 2, 1, 2, 2], [1, 2, 1, 2, 2], [1, 2, 1, 2, 2], [1, 2, 1, 2, 2], [1, 2, 1, 2, 2], [1, 2, 1, 2, 2], [1, 2, 1, 2, 2], [1, 2, 1, 2, 2], [1, 2, 1, 2, 2], [1, 2, 1, 2, 2], [1, 2, 1, 2, 2], [1, 2, 1, 2, 2], [1, 2, 1, 2, 2], [1, 2, 1, 2, 2], [1, 2, 1, 2, 2], [1, 2, 1, 2, 2], [1, 2, 1, 2, 2], [1, 2, 1, 2, 2], [1, 2, 1, 2, 2], [1, 2, 1, 2, 2], [1, 2, 1, 2, 2], [1, 2, 1, 2, 2], [1, 2, 1, 2, 2], [1, 2, 1, 2, 2], [1, 2, 1, 2, 2], [1, 2, 1, 2, 2], [1, 2, 1, 2, 2], [1, 2, 1, 2, 2], [1, 2, 1, 2, 2], [1, 2, 1, 2, 2], [1, 2, 1, 2, 2], [1, 2, 1, 2, 2], [1, 2, 1, 2, 2], [1, 2, 1, 2, 2], [1, 2, 1, 2, 2], [1, 2, 1, 2, 2], [1, 2, 1, 2, 2], [1, 2, 1, 2, 2], [1, 2, 1, 2, 2], [1, 2, 1, 2, 2], [1, 2, 1, 2, 2], [1, 2, 1, 2, 2], [1, 2, 1, 2, 2], [1, 2, 1, 2, 2]], [[1, 1, 1, 1, 2], [1, 1, 1, 1, 2], [1, 1, 1, 1, 2], [1, 1, 1, 1, 2], [1, 1, 1, 1, 2], [1, 1, 1, 1, 2], [1, 1, 1, 1, 2], [1, 1, 1, 1, 2], [1, 1, 1, 1, 2], [1, 1, 1, 1, 2], [1, 1, 1, 1, 2], [1, 1, 1, 1, 2], [1, 1, 1, 1, 2], [1, 1, 1, 1, 2], [1, 1, 1, 1, 2], [1, 1, 1, 1, 2], [1, 1, 1, 1, 2], [1, 1, 1, 1, 2], [1, 1, 1, 1, 2], [1, 1, 1, 1, 2], [1, 1, 1, 1, 2], [1, 1, 1, 1, 2], [1, 1, 1, 1, 2], [1, 1, 1, 1, 2], [1, 1, 1, 1, 2], [1, 1, 1, 1, 2], [1, 1, 1, 1, 2], [1, 1, 1, 1, 2], [1, 1, 1, 1, 2], [1, 1, 1, 1, 2], [1, 1, 1, 1, 2], [1, 1, 1, 1, 2], [1, 1, 1, 1, 2], [1, 1, 1, 1, 2], [1, 1, 1, 1, 2], [1, 1, 1, 1, 2], [1, 1, 1, 1, 2], [1, 1, 1, 1, 2], [1, 1, 1, 1, 2], [1, 1, 1, 1, 2], [1, 1, 1, 1, 2], [1, 1, 1, 1, 2], [1, 1, 1, 1, 2], [1, 1, 1, 1, 2], [1, 1, 1, 1, 2], [1, 1, 1, 1, 2], [1, 1, 1, 1, 2], [1, 1, 1, 1, 2], [1, 1, 1, 1, 2], [1, 1, 1, 1, 2], [1, 1, 1, 1, 2], [1, 1, 1, 1, 2], [1, 1, 1, 1, 2], [1, 1, 1, 1, 2], [1, 1, 1, 1, 2], [1, 1, 1, 1, 2], [1, 1, 1, 1, 2], [1, 1, 1, 1, 2], [1, 1, 1, 1, 2], [1, 1, 1, 1, 2], [1, 1, 1, 1, 2], [1, 1, 1, 1, 2], [1, 1, 1, 1, 2], [1, 1, 1, 1, 2], [1, 1, 1, 1, 2], [1, 1, 1, 1, 2], [1, 1, 1, 1, 2], [1, 1, 1, 1, 2], [1, 1, 1, 1, 2], [1, 1, 1, 1, 2], [1, 1, 1, 1, 2], [1, 1, 1, 1, 2], [1, 1, 1, 1, 2], [1, 1, 1, 1, 2], [1, 1, 1, 1, 2], [1, 1, 1, 1, 2], [1, 1, 1, 1, 2], [1, 1, 1, 1, 2], [1, 1, 1, 1, 2], [1, 1, 1, 1, 2], [1, 1, 1, 1, 2], [1, 1, 1, 1, 2], [1, 1, 1, 1, 2], [1, 1, 1, 1, 2], [1, 1, 1, 1, 2], [1, 1, 1, 1, 2], [1, 1, 1, 1, 2], [1, 1, 1, 1, 2], [1, 1, 1, 1, 2], [1, 1, 1, 1, 2], [1, 1, 1, 1, 2], [1, 1, 1, 1, 2], [1, 1, 1, 1, 2], [1, 1, 1, 1, 2], [1, 1, 1, 1, 2], [1, 1, 1, 1, 2], [1, 1, 1, 1, 2], [1, 1, 1, 1, 2], [1, 1, 1, 1, 2], [1, 1, 1, 1, 2]], [[1, 1, 2, 2, 2], [1, 1, 2, 2, 2], [1, 1, 2, 2, 2], [1, 1, 2, 2, 2], [1, 1, 2, 2, 2], [1, 1, 2, 2, 2], [1, 1, 2, 2, 2], [1, 1, 2, 2, 2], [1, 1, 2, 2, 2], [1, 1, 2, 2, 2], [1, 1, 2, 2, 2], [1, 1, 2, 2, 2], [1, 1, 2, 2, 2], [1, 1, 2, 2, 2], [1, 1, 2, 2, 2], [1, 1, 2, 2, 2], [1, 1, 2, 2, 2], [1, 1, 2, 2, 2], [1, 1, 2, 2, 2], [1, 1, 2, 2, 2], [1, 1, 2, 2, 2], [1, 1, 2, 2, 2], [1, 1, 2, 2, 2], [1, 1, 2, 2, 2], [1, 1, 2, 2, 2], [1, 1, 2, 2, 2], [1, 1, 2, 2, 2], [1, 1, 2, 2, 2], [1, 1, 2, 2, 2], [1, 1, 2, 2, 2], [1, 1, 2, 2, 2], [1, 1, 2, 2, 2], [1, 1, 2, 2, 2], [1, 1, 2, 2, 2], [1, 1, 2, 2, 2], [1, 1, 2, 2, 2], [1, 1, 2, 2, 2], [1, 1, 2, 2, 2], [1, 1, 2, 2, 2], [1, 1, 2, 2, 2], [1, 1, 2, 2, 2], [1, 1, 2, 2, 2], [1, 1, 2, 2, 2], [1, 1, 2, 2, 2], [1, 1, 2, 2, 2], [1, 1, 2, 2, 2], [1, 1, 2, 2, 2], [1, 1, 2, 2, 2], [1, 1, 2, 2, 2], [1, 1, 2, 2, 2], [1, 1, 2, 2, 2], [1, 1, 2, 2, 2], [1, 1, 2, 2, 2], [1, 1, 2, 2, 2], [1, 1, 2, 2, 2], [1, 1, 2, 2, 2], [1, 1, 2, 2, 2], [1, 1, 2, 2, 2], [1, 1, 2, 2, 2], [1, 1, 2, 2, 2], [1, 1, 2, 2, 2], [1, 1, 2, 2, 2], [1, 1, 2, 2, 2], [1, 1, 2, 2, 2], [1, 1, 2, 2, 2], [1, 1, 2, 2, 2], [1, 1, 2, 2, 2], [1, 1, 2, 2, 2], [1, 1, 2, 2, 2], [1, 1, 2, 2, 2], [1, 1, 2, 2, 2], [1, 1, 2, 2, 2], [1, 1, 2, 2, 2], [1, 1, 2, 2, 2], [1, 1, 2, 2, 2], [1, 1, 2, 2, 2], [1, 1, 2, 2, 2], [1, 1, 2, 2, 2], [1, 1, 2, 2, 2], [1, 1, 2, 2, 2], [1, 1, 2, 2, 2], [1, 1, 2, 2, 2], [1, 1, 2, 2, 2], [1, 1, 2, 2, 2], [1, 1, 2, 2, 2], [1, 1, 2, 2, 2], [1, 1, 2, 2, 2], [1, 1, 2, 2, 2], [1, 1, 2, 2, 2], [1, 1, 2, 2, 2], [1, 1, 2, 2, 2], [1, 1, 2, 2, 2], [1, 1, 2, 2, 2], [1, 1, 2, 2, 2], [1, 1, 2, 2, 2], [1, 1, 2, 2, 2], [1, 1, 2, 2, 2], [1, 1, 2, 2, 2], [1, 1, 2, 2, 2], [1, 1, 2, 2, 2]])\n"
     ]
    }
   ],
   "source": [
    "print(x)"
   ]
  },
  {
   "cell_type": "code",
   "execution_count": 28,
   "metadata": {
    "scrolled": false
   },
   "outputs": [
    {
     "name": "stdout",
     "output_type": "stream",
     "text": [
      "__________________________________________________________________________________________________\n",
      "Layer (type)                    Output Shape         Param #     Connected to                     \n",
      "==================================================================================================\n",
      "input (InputLayer)              (None, 100)          0                                            \n",
      "__________________________________________________________________________________________________\n",
      "input_start_of_p (InputLayer)   (None, 100)          0                                            \n",
      "__________________________________________________________________________________________________\n",
      "input_bold (InputLayer)         (None, 100)          0                                            \n",
      "__________________________________________________________________________________________________\n",
      "input_center (InputLayer)       (None, 100)          0                                            \n",
      "__________________________________________________________________________________________________\n",
      "layer_embedding (Embedding)     (None, 100, 100)     900         input[0][0]                      \n",
      "__________________________________________________________________________________________________\n",
      "layer_embedding_start_of_p (Emb (None, 100, 16)      48          input_start_of_p[0][0]           \n",
      "__________________________________________________________________________________________________\n",
      "layer_embedding_bold (Embedding (None, 100, 16)      48          input_bold[0][0]                 \n",
      "__________________________________________________________________________________________________\n",
      "layer_embedding_center (Embeddi (None, 100, 16)      48          input_center[0][0]               \n",
      "__________________________________________________________________________________________________\n",
      "layer_concatenate (Concatenate) (None, 100, 148)     0           layer_embedding[0][0]            \n",
      "                                                                 layer_embedding_start_of_p[0][0] \n",
      "                                                                 layer_embedding_bold[0][0]       \n",
      "                                                                 layer_embedding_center[0][0]     \n",
      "__________________________________________________________________________________________________\n",
      "layer_blstm (Bidirectional)     (None, 100, 256)     283648      layer_concatenate[0][0]          \n",
      "__________________________________________________________________________________________________\n",
      "layer_dropout (Dropout)         (None, 100, 256)     0           layer_blstm[0][0]                \n",
      "__________________________________________________________________________________________________\n",
      "layer_time_distributed (TimeDis (None, 100, 5)       1285        layer_dropout[0][0]              \n",
      "__________________________________________________________________________________________________\n",
      "activation_5 (Activation)       (None, 100, 5)       0           layer_time_distributed[0][0]     \n",
      "==================================================================================================\n",
      "Total params: 285,977\n",
      "Trainable params: 285,977\n",
      "Non-trainable params: 0\n",
      "__________________________________________________________________________________________________\n",
      "Epoch 1/5\n",
      "2/2 [==============================] - 2s 1s/step - loss: 1.5503 - acc: 0.5263\n",
      "Epoch 2/5\n",
      "2/2 [==============================] - 1s 287ms/step - loss: 1.3092 - acc: 0.9500\n",
      "Epoch 3/5\n",
      "2/2 [==============================] - 1s 288ms/step - loss: 1.0055 - acc: 0.9500\n",
      "Epoch 4/5\n",
      "2/2 [==============================] - 1s 283ms/step - loss: 0.5690 - acc: 0.9500\n",
      "Epoch 5/5\n",
      "2/2 [==============================] - 1s 345ms/step - loss: 0.2121 - acc: 0.9500\n",
      "[['<PAD>', '<PAD>', '<PAD>', '<PAD>', '<PAD>'], ['<PAD>', '<PAD>', '<PAD>', '<PAD>', '<PAD>'], ['<PAD>', '<PAD>', '<PAD>', '<PAD>', '<PAD>'], ['<PAD>', '<PAD>', '<PAD>', '<PAD>', '<PAD>'], ['<PAD>', '<PAD>', '<PAD>', '<PAD>', '<PAD>'], ['<PAD>', '<PAD>', '<PAD>', '<PAD>', '<PAD>'], ['<PAD>', '<PAD>', '<PAD>', '<PAD>', '<PAD>'], ['<PAD>', '<PAD>', '<PAD>', '<PAD>', '<PAD>'], ['<PAD>', '<PAD>', '<PAD>', '<PAD>', '<PAD>'], ['<PAD>', '<PAD>', '<PAD>', '<PAD>', '<PAD>'], ['<PAD>', '<PAD>', '<PAD>', '<PAD>', '<PAD>'], ['<PAD>', '<PAD>', '<PAD>', '<PAD>', '<PAD>'], ['<PAD>', '<PAD>', '<PAD>', '<PAD>', '<PAD>'], ['<PAD>', '<PAD>', '<PAD>', '<PAD>', '<PAD>'], ['<PAD>', '<PAD>', '<PAD>', '<PAD>', '<PAD>'], ['<PAD>', '<PAD>', '<PAD>', '<PAD>', '<PAD>'], ['<PAD>', '<PAD>', '<PAD>', '<PAD>', '<PAD>'], ['<PAD>', '<PAD>', '<PAD>', '<PAD>', '<PAD>'], ['<PAD>', '<PAD>', '<PAD>', '<PAD>', '<PAD>'], ['<PAD>', '<PAD>', '<PAD>', '<PAD>', '<PAD>'], ['<PAD>', '<PAD>', '<PAD>', '<PAD>', '<PAD>'], ['<PAD>', '<PAD>', '<PAD>', '<PAD>', '<PAD>'], ['<PAD>', '<PAD>', '<PAD>', '<PAD>', '<PAD>'], ['<PAD>', '<PAD>', '<PAD>', '<PAD>', '<PAD>'], ['<PAD>', '<PAD>', '<PAD>', '<PAD>', '<PAD>'], ['<PAD>', '<PAD>', '<PAD>', '<PAD>', '<PAD>'], ['<PAD>', '<PAD>', '<PAD>', '<PAD>', '<PAD>'], ['<PAD>', '<PAD>', '<PAD>', '<PAD>', '<PAD>'], ['<PAD>', '<PAD>', '<PAD>', '<PAD>', '<PAD>'], ['<PAD>', '<PAD>', '<PAD>', '<PAD>', '<PAD>'], ['<PAD>', '<PAD>', '<PAD>', '<PAD>', '<PAD>'], ['<PAD>', '<PAD>', '<PAD>', '<PAD>', '<PAD>'], ['<PAD>', '<PAD>', '<PAD>', '<PAD>', '<PAD>'], ['<PAD>', '<PAD>', '<PAD>', '<PAD>', '<PAD>'], ['<PAD>', '<PAD>', '<PAD>', '<PAD>', '<PAD>'], ['<PAD>', '<PAD>', '<PAD>', '<PAD>', '<PAD>'], ['<PAD>', '<PAD>', '<PAD>', '<PAD>', '<PAD>'], ['<PAD>', '<PAD>', '<PAD>', '<PAD>', '<PAD>'], ['<PAD>', '<PAD>', '<PAD>', '<PAD>', '<PAD>'], ['<PAD>', '<PAD>', '<PAD>', '<PAD>', '<PAD>'], ['<PAD>', '<PAD>', '<PAD>', '<PAD>', '<PAD>'], ['<PAD>', '<PAD>', '<PAD>', '<PAD>', '<PAD>'], ['<PAD>', '<PAD>', '<PAD>', '<PAD>', '<PAD>'], ['<PAD>', '<PAD>', '<PAD>', '<PAD>', '<PAD>'], ['<PAD>', '<PAD>', '<PAD>', '<PAD>', '<PAD>'], ['<PAD>', '<PAD>', '<PAD>', '<PAD>', '<PAD>'], ['<PAD>', '<PAD>', '<PAD>', '<PAD>', '<PAD>'], ['<PAD>', '<PAD>', '<PAD>', '<PAD>', '<PAD>'], ['<PAD>', '<PAD>', '<PAD>', '<PAD>', '<PAD>'], ['<PAD>', '<PAD>', '<PAD>', '<PAD>', '<PAD>'], ['<PAD>', '<PAD>', '<PAD>', '<PAD>', '<PAD>'], ['<PAD>', '<PAD>', '<PAD>', '<PAD>', '<PAD>'], ['<PAD>', '<PAD>', '<PAD>', '<PAD>', '<PAD>'], ['<PAD>', '<PAD>', '<PAD>', '<PAD>', '<PAD>'], ['<PAD>', '<PAD>', '<PAD>', '<PAD>', '<PAD>'], ['<PAD>', '<PAD>', '<PAD>', '<PAD>', '<PAD>'], ['<PAD>', '<PAD>', '<PAD>', '<PAD>', '<PAD>'], ['<PAD>', '<PAD>', '<PAD>', '<PAD>', '<PAD>'], ['<PAD>', '<PAD>', '<PAD>', '<PAD>', '<PAD>'], ['<PAD>', '<PAD>', '<PAD>', '<PAD>', '<PAD>'], ['<PAD>', '<PAD>', '<PAD>', '<PAD>', '<PAD>'], ['<PAD>', '<PAD>', '<PAD>', '<PAD>', '<PAD>'], ['<PAD>', '<PAD>', '<PAD>', '<PAD>', '<PAD>'], ['<PAD>', '<PAD>', '<PAD>', '<PAD>', '<PAD>'], ['<PAD>', '<PAD>', '<PAD>', '<PAD>', '<PAD>'], ['<PAD>', '<PAD>', '<PAD>', '<PAD>', '<PAD>'], ['<PAD>', '<PAD>', '<PAD>', '<PAD>', '<PAD>'], ['<PAD>', '<PAD>', '<PAD>', '<PAD>', '<PAD>'], ['<PAD>', '<PAD>', '<PAD>', '<PAD>', '<PAD>'], ['<PAD>', '<PAD>', '<PAD>', '<PAD>', '<PAD>'], ['<PAD>', '<PAD>', '<PAD>', '<PAD>', '<PAD>'], ['<PAD>', '<PAD>', '<PAD>', '<PAD>', '<PAD>'], ['<PAD>', '<PAD>', '<PAD>', '<PAD>', '<PAD>'], ['<PAD>', '<PAD>', '<PAD>', '<PAD>', '<PAD>'], ['<PAD>', '<PAD>', '<PAD>', '<PAD>', '<PAD>'], ['<PAD>', '<PAD>', '<PAD>', '<PAD>', '<PAD>'], ['<PAD>', '<PAD>', '<PAD>', '<PAD>', '<PAD>'], ['<PAD>', '<PAD>', '<PAD>', '<PAD>', '<PAD>'], ['<PAD>', '<PAD>', '<PAD>', '<PAD>', '<PAD>'], ['<PAD>', '<PAD>', '<PAD>', '<PAD>', '<PAD>'], ['<PAD>', '<PAD>', '<PAD>', '<PAD>', '<PAD>'], ['<PAD>', '<PAD>', '<PAD>', '<PAD>', '<PAD>'], ['<PAD>', '<PAD>', '<PAD>', '<PAD>', '<PAD>'], ['<PAD>', '<PAD>', '<PAD>', '<PAD>', '<PAD>'], ['<PAD>', '<PAD>', '<PAD>', '<PAD>', '<PAD>'], ['<PAD>', '<PAD>', '<PAD>', '<PAD>', '<PAD>'], ['<PAD>', '<PAD>', '<PAD>', '<PAD>', '<PAD>'], ['<PAD>', '<PAD>', '<PAD>', '<PAD>', '<PAD>'], ['<PAD>', '<PAD>', '<PAD>', '<PAD>', '<PAD>'], ['<PAD>', '<PAD>', '<PAD>', '<PAD>', '<PAD>'], ['<PAD>', '<PAD>', '<PAD>', '<PAD>', '<PAD>'], ['<PAD>', '<PAD>', '<PAD>', '<PAD>', '<PAD>'], ['<PAD>', '<PAD>', '<PAD>', '<PAD>', '<PAD>'], ['<PAD>', '<PAD>', '<PAD>', '<PAD>', '<PAD>'], ['<PAD>', '<PAD>', '<PAD>', '<PAD>', '<PAD>'], ['<PAD>', '<PAD>', '<PAD>', '<PAD>', '<PAD>'], ['<PAD>', '<PAD>', '<PAD>', '<PAD>', '<PAD>'], ['<PAD>', '<PAD>', '<PAD>', '<PAD>', '<PAD>'], ['<PAD>', '<PAD>', '<PAD>', '<PAD>', '<PAD>'], ['<PAD>', '<PAD>', '<PAD>', '<PAD>', '<PAD>']]\n"
     ]
    },
    {
     "name": "stdout",
     "output_type": "stream",
     "text": [
      "[{'text': 'NLP Projects Project Name :', 'text_raw': ['NLP', 'Projects', 'Project', 'Name', ':'], 'labels': [{'entity': '<PAD>', 'start': 0, 'end': 4, 'value': 'NLP Projects Project Name :'}]}, {'text': 'NLP Projects Project Name :', 'text_raw': ['NLP', 'Projects', 'Project', 'Name', ':'], 'labels': [{'entity': '<PAD>', 'start': 0, 'end': 4, 'value': 'NLP Projects Project Name :'}]}, {'text': 'NLP Projects Project Name :', 'text_raw': ['NLP', 'Projects', 'Project', 'Name', ':'], 'labels': [{'entity': '<PAD>', 'start': 0, 'end': 4, 'value': 'NLP Projects Project Name :'}]}, {'text': 'NLP Projects Project Name :', 'text_raw': ['NLP', 'Projects', 'Project', 'Name', ':'], 'labels': [{'entity': '<PAD>', 'start': 0, 'end': 4, 'value': 'NLP Projects Project Name :'}]}, {'text': 'NLP Projects Project Name :', 'text_raw': ['NLP', 'Projects', 'Project', 'Name', ':'], 'labels': [{'entity': '<PAD>', 'start': 0, 'end': 4, 'value': 'NLP Projects Project Name :'}]}, {'text': 'NLP Projects Project Name :', 'text_raw': ['NLP', 'Projects', 'Project', 'Name', ':'], 'labels': [{'entity': '<PAD>', 'start': 0, 'end': 4, 'value': 'NLP Projects Project Name :'}]}, {'text': 'NLP Projects Project Name :', 'text_raw': ['NLP', 'Projects', 'Project', 'Name', ':'], 'labels': [{'entity': '<PAD>', 'start': 0, 'end': 4, 'value': 'NLP Projects Project Name :'}]}, {'text': 'NLP Projects Project Name :', 'text_raw': ['NLP', 'Projects', 'Project', 'Name', ':'], 'labels': [{'entity': '<PAD>', 'start': 0, 'end': 4, 'value': 'NLP Projects Project Name :'}]}, {'text': 'NLP Projects Project Name :', 'text_raw': ['NLP', 'Projects', 'Project', 'Name', ':'], 'labels': [{'entity': '<PAD>', 'start': 0, 'end': 4, 'value': 'NLP Projects Project Name :'}]}, {'text': 'NLP Projects Project Name :', 'text_raw': ['NLP', 'Projects', 'Project', 'Name', ':'], 'labels': [{'entity': '<PAD>', 'start': 0, 'end': 4, 'value': 'NLP Projects Project Name :'}]}, {'text': 'NLP Projects Project Name :', 'text_raw': ['NLP', 'Projects', 'Project', 'Name', ':'], 'labels': [{'entity': '<PAD>', 'start': 0, 'end': 4, 'value': 'NLP Projects Project Name :'}]}, {'text': 'NLP Projects Project Name :', 'text_raw': ['NLP', 'Projects', 'Project', 'Name', ':'], 'labels': [{'entity': '<PAD>', 'start': 0, 'end': 4, 'value': 'NLP Projects Project Name :'}]}, {'text': 'NLP Projects Project Name :', 'text_raw': ['NLP', 'Projects', 'Project', 'Name', ':'], 'labels': [{'entity': '<PAD>', 'start': 0, 'end': 4, 'value': 'NLP Projects Project Name :'}]}, {'text': 'NLP Projects Project Name :', 'text_raw': ['NLP', 'Projects', 'Project', 'Name', ':'], 'labels': [{'entity': '<PAD>', 'start': 0, 'end': 4, 'value': 'NLP Projects Project Name :'}]}, {'text': 'NLP Projects Project Name :', 'text_raw': ['NLP', 'Projects', 'Project', 'Name', ':'], 'labels': [{'entity': '<PAD>', 'start': 0, 'end': 4, 'value': 'NLP Projects Project Name :'}]}, {'text': 'NLP Projects Project Name :', 'text_raw': ['NLP', 'Projects', 'Project', 'Name', ':'], 'labels': [{'entity': '<PAD>', 'start': 0, 'end': 4, 'value': 'NLP Projects Project Name :'}]}, {'text': 'NLP Projects Project Name :', 'text_raw': ['NLP', 'Projects', 'Project', 'Name', ':'], 'labels': [{'entity': '<PAD>', 'start': 0, 'end': 4, 'value': 'NLP Projects Project Name :'}]}, {'text': 'NLP Projects Project Name :', 'text_raw': ['NLP', 'Projects', 'Project', 'Name', ':'], 'labels': [{'entity': '<PAD>', 'start': 0, 'end': 4, 'value': 'NLP Projects Project Name :'}]}, {'text': 'NLP Projects Project Name :', 'text_raw': ['NLP', 'Projects', 'Project', 'Name', ':'], 'labels': [{'entity': '<PAD>', 'start': 0, 'end': 4, 'value': 'NLP Projects Project Name :'}]}, {'text': 'NLP Projects Project Name :', 'text_raw': ['NLP', 'Projects', 'Project', 'Name', ':'], 'labels': [{'entity': '<PAD>', 'start': 0, 'end': 4, 'value': 'NLP Projects Project Name :'}]}, {'text': 'NLP Projects Project Name :', 'text_raw': ['NLP', 'Projects', 'Project', 'Name', ':'], 'labels': [{'entity': '<PAD>', 'start': 0, 'end': 4, 'value': 'NLP Projects Project Name :'}]}, {'text': 'NLP Projects Project Name :', 'text_raw': ['NLP', 'Projects', 'Project', 'Name', ':'], 'labels': [{'entity': '<PAD>', 'start': 0, 'end': 4, 'value': 'NLP Projects Project Name :'}]}, {'text': 'NLP Projects Project Name :', 'text_raw': ['NLP', 'Projects', 'Project', 'Name', ':'], 'labels': [{'entity': '<PAD>', 'start': 0, 'end': 4, 'value': 'NLP Projects Project Name :'}]}, {'text': 'NLP Projects Project Name :', 'text_raw': ['NLP', 'Projects', 'Project', 'Name', ':'], 'labels': [{'entity': '<PAD>', 'start': 0, 'end': 4, 'value': 'NLP Projects Project Name :'}]}, {'text': 'NLP Projects Project Name :', 'text_raw': ['NLP', 'Projects', 'Project', 'Name', ':'], 'labels': [{'entity': '<PAD>', 'start': 0, 'end': 4, 'value': 'NLP Projects Project Name :'}]}, {'text': 'NLP Projects Project Name :', 'text_raw': ['NLP', 'Projects', 'Project', 'Name', ':'], 'labels': [{'entity': '<PAD>', 'start': 0, 'end': 4, 'value': 'NLP Projects Project Name :'}]}, {'text': 'NLP Projects Project Name :', 'text_raw': ['NLP', 'Projects', 'Project', 'Name', ':'], 'labels': [{'entity': '<PAD>', 'start': 0, 'end': 4, 'value': 'NLP Projects Project Name :'}]}, {'text': 'NLP Projects Project Name :', 'text_raw': ['NLP', 'Projects', 'Project', 'Name', ':'], 'labels': [{'entity': '<PAD>', 'start': 0, 'end': 4, 'value': 'NLP Projects Project Name :'}]}, {'text': 'NLP Projects Project Name :', 'text_raw': ['NLP', 'Projects', 'Project', 'Name', ':'], 'labels': [{'entity': '<PAD>', 'start': 0, 'end': 4, 'value': 'NLP Projects Project Name :'}]}, {'text': 'NLP Projects Project Name :', 'text_raw': ['NLP', 'Projects', 'Project', 'Name', ':'], 'labels': [{'entity': '<PAD>', 'start': 0, 'end': 4, 'value': 'NLP Projects Project Name :'}]}, {'text': 'NLP Projects Project Name :', 'text_raw': ['NLP', 'Projects', 'Project', 'Name', ':'], 'labels': [{'entity': '<PAD>', 'start': 0, 'end': 4, 'value': 'NLP Projects Project Name :'}]}, {'text': 'NLP Projects Project Name :', 'text_raw': ['NLP', 'Projects', 'Project', 'Name', ':'], 'labels': [{'entity': '<PAD>', 'start': 0, 'end': 4, 'value': 'NLP Projects Project Name :'}]}, {'text': 'NLP Projects Project Name :', 'text_raw': ['NLP', 'Projects', 'Project', 'Name', ':'], 'labels': [{'entity': '<PAD>', 'start': 0, 'end': 4, 'value': 'NLP Projects Project Name :'}]}, {'text': 'NLP Projects Project Name :', 'text_raw': ['NLP', 'Projects', 'Project', 'Name', ':'], 'labels': [{'entity': '<PAD>', 'start': 0, 'end': 4, 'value': 'NLP Projects Project Name :'}]}, {'text': 'NLP Projects Project Name :', 'text_raw': ['NLP', 'Projects', 'Project', 'Name', ':'], 'labels': [{'entity': '<PAD>', 'start': 0, 'end': 4, 'value': 'NLP Projects Project Name :'}]}, {'text': 'NLP Projects Project Name :', 'text_raw': ['NLP', 'Projects', 'Project', 'Name', ':'], 'labels': [{'entity': '<PAD>', 'start': 0, 'end': 4, 'value': 'NLP Projects Project Name :'}]}, {'text': 'NLP Projects Project Name :', 'text_raw': ['NLP', 'Projects', 'Project', 'Name', ':'], 'labels': [{'entity': '<PAD>', 'start': 0, 'end': 4, 'value': 'NLP Projects Project Name :'}]}, {'text': 'NLP Projects Project Name :', 'text_raw': ['NLP', 'Projects', 'Project', 'Name', ':'], 'labels': [{'entity': '<PAD>', 'start': 0, 'end': 4, 'value': 'NLP Projects Project Name :'}]}, {'text': 'NLP Projects Project Name :', 'text_raw': ['NLP', 'Projects', 'Project', 'Name', ':'], 'labels': [{'entity': '<PAD>', 'start': 0, 'end': 4, 'value': 'NLP Projects Project Name :'}]}, {'text': 'NLP Projects Project Name :', 'text_raw': ['NLP', 'Projects', 'Project', 'Name', ':'], 'labels': [{'entity': '<PAD>', 'start': 0, 'end': 4, 'value': 'NLP Projects Project Name :'}]}, {'text': 'NLP Projects Project Name :', 'text_raw': ['NLP', 'Projects', 'Project', 'Name', ':'], 'labels': [{'entity': '<PAD>', 'start': 0, 'end': 4, 'value': 'NLP Projects Project Name :'}]}, {'text': 'NLP Projects Project Name :', 'text_raw': ['NLP', 'Projects', 'Project', 'Name', ':'], 'labels': [{'entity': '<PAD>', 'start': 0, 'end': 4, 'value': 'NLP Projects Project Name :'}]}, {'text': 'NLP Projects Project Name :', 'text_raw': ['NLP', 'Projects', 'Project', 'Name', ':'], 'labels': [{'entity': '<PAD>', 'start': 0, 'end': 4, 'value': 'NLP Projects Project Name :'}]}, {'text': 'NLP Projects Project Name :', 'text_raw': ['NLP', 'Projects', 'Project', 'Name', ':'], 'labels': [{'entity': '<PAD>', 'start': 0, 'end': 4, 'value': 'NLP Projects Project Name :'}]}, {'text': 'NLP Projects Project Name :', 'text_raw': ['NLP', 'Projects', 'Project', 'Name', ':'], 'labels': [{'entity': '<PAD>', 'start': 0, 'end': 4, 'value': 'NLP Projects Project Name :'}]}, {'text': 'NLP Projects Project Name :', 'text_raw': ['NLP', 'Projects', 'Project', 'Name', ':'], 'labels': [{'entity': '<PAD>', 'start': 0, 'end': 4, 'value': 'NLP Projects Project Name :'}]}, {'text': 'NLP Projects Project Name :', 'text_raw': ['NLP', 'Projects', 'Project', 'Name', ':'], 'labels': [{'entity': '<PAD>', 'start': 0, 'end': 4, 'value': 'NLP Projects Project Name :'}]}, {'text': 'NLP Projects Project Name :', 'text_raw': ['NLP', 'Projects', 'Project', 'Name', ':'], 'labels': [{'entity': '<PAD>', 'start': 0, 'end': 4, 'value': 'NLP Projects Project Name :'}]}, {'text': 'NLP Projects Project Name :', 'text_raw': ['NLP', 'Projects', 'Project', 'Name', ':'], 'labels': [{'entity': '<PAD>', 'start': 0, 'end': 4, 'value': 'NLP Projects Project Name :'}]}, {'text': 'NLP Projects Project Name :', 'text_raw': ['NLP', 'Projects', 'Project', 'Name', ':'], 'labels': [{'entity': '<PAD>', 'start': 0, 'end': 4, 'value': 'NLP Projects Project Name :'}]}, {'text': 'NLP Projects Project Name :', 'text_raw': ['NLP', 'Projects', 'Project', 'Name', ':'], 'labels': [{'entity': '<PAD>', 'start': 0, 'end': 4, 'value': 'NLP Projects Project Name :'}]}, {'text': 'NLP Projects Project Name :', 'text_raw': ['NLP', 'Projects', 'Project', 'Name', ':'], 'labels': [{'entity': '<PAD>', 'start': 0, 'end': 4, 'value': 'NLP Projects Project Name :'}]}, {'text': 'NLP Projects Project Name :', 'text_raw': ['NLP', 'Projects', 'Project', 'Name', ':'], 'labels': [{'entity': '<PAD>', 'start': 0, 'end': 4, 'value': 'NLP Projects Project Name :'}]}, {'text': 'NLP Projects Project Name :', 'text_raw': ['NLP', 'Projects', 'Project', 'Name', ':'], 'labels': [{'entity': '<PAD>', 'start': 0, 'end': 4, 'value': 'NLP Projects Project Name :'}]}, {'text': 'NLP Projects Project Name :', 'text_raw': ['NLP', 'Projects', 'Project', 'Name', ':'], 'labels': [{'entity': '<PAD>', 'start': 0, 'end': 4, 'value': 'NLP Projects Project Name :'}]}, {'text': 'NLP Projects Project Name :', 'text_raw': ['NLP', 'Projects', 'Project', 'Name', ':'], 'labels': [{'entity': '<PAD>', 'start': 0, 'end': 4, 'value': 'NLP Projects Project Name :'}]}, {'text': 'NLP Projects Project Name :', 'text_raw': ['NLP', 'Projects', 'Project', 'Name', ':'], 'labels': [{'entity': '<PAD>', 'start': 0, 'end': 4, 'value': 'NLP Projects Project Name :'}]}, {'text': 'NLP Projects Project Name :', 'text_raw': ['NLP', 'Projects', 'Project', 'Name', ':'], 'labels': [{'entity': '<PAD>', 'start': 0, 'end': 4, 'value': 'NLP Projects Project Name :'}]}, {'text': 'NLP Projects Project Name :', 'text_raw': ['NLP', 'Projects', 'Project', 'Name', ':'], 'labels': [{'entity': '<PAD>', 'start': 0, 'end': 4, 'value': 'NLP Projects Project Name :'}]}, {'text': 'NLP Projects Project Name :', 'text_raw': ['NLP', 'Projects', 'Project', 'Name', ':'], 'labels': [{'entity': '<PAD>', 'start': 0, 'end': 4, 'value': 'NLP Projects Project Name :'}]}, {'text': 'NLP Projects Project Name :', 'text_raw': ['NLP', 'Projects', 'Project', 'Name', ':'], 'labels': [{'entity': '<PAD>', 'start': 0, 'end': 4, 'value': 'NLP Projects Project Name :'}]}, {'text': 'NLP Projects Project Name :', 'text_raw': ['NLP', 'Projects', 'Project', 'Name', ':'], 'labels': [{'entity': '<PAD>', 'start': 0, 'end': 4, 'value': 'NLP Projects Project Name :'}]}, {'text': 'NLP Projects Project Name :', 'text_raw': ['NLP', 'Projects', 'Project', 'Name', ':'], 'labels': [{'entity': '<PAD>', 'start': 0, 'end': 4, 'value': 'NLP Projects Project Name :'}]}, {'text': 'NLP Projects Project Name :', 'text_raw': ['NLP', 'Projects', 'Project', 'Name', ':'], 'labels': [{'entity': '<PAD>', 'start': 0, 'end': 4, 'value': 'NLP Projects Project Name :'}]}, {'text': 'NLP Projects Project Name :', 'text_raw': ['NLP', 'Projects', 'Project', 'Name', ':'], 'labels': [{'entity': '<PAD>', 'start': 0, 'end': 4, 'value': 'NLP Projects Project Name :'}]}, {'text': 'NLP Projects Project Name :', 'text_raw': ['NLP', 'Projects', 'Project', 'Name', ':'], 'labels': [{'entity': '<PAD>', 'start': 0, 'end': 4, 'value': 'NLP Projects Project Name :'}]}, {'text': 'NLP Projects Project Name :', 'text_raw': ['NLP', 'Projects', 'Project', 'Name', ':'], 'labels': [{'entity': '<PAD>', 'start': 0, 'end': 4, 'value': 'NLP Projects Project Name :'}]}, {'text': 'NLP Projects Project Name :', 'text_raw': ['NLP', 'Projects', 'Project', 'Name', ':'], 'labels': [{'entity': '<PAD>', 'start': 0, 'end': 4, 'value': 'NLP Projects Project Name :'}]}, {'text': 'NLP Projects Project Name :', 'text_raw': ['NLP', 'Projects', 'Project', 'Name', ':'], 'labels': [{'entity': '<PAD>', 'start': 0, 'end': 4, 'value': 'NLP Projects Project Name :'}]}, {'text': 'NLP Projects Project Name :', 'text_raw': ['NLP', 'Projects', 'Project', 'Name', ':'], 'labels': [{'entity': '<PAD>', 'start': 0, 'end': 4, 'value': 'NLP Projects Project Name :'}]}, {'text': 'NLP Projects Project Name :', 'text_raw': ['NLP', 'Projects', 'Project', 'Name', ':'], 'labels': [{'entity': '<PAD>', 'start': 0, 'end': 4, 'value': 'NLP Projects Project Name :'}]}, {'text': 'NLP Projects Project Name :', 'text_raw': ['NLP', 'Projects', 'Project', 'Name', ':'], 'labels': [{'entity': '<PAD>', 'start': 0, 'end': 4, 'value': 'NLP Projects Project Name :'}]}, {'text': 'NLP Projects Project Name :', 'text_raw': ['NLP', 'Projects', 'Project', 'Name', ':'], 'labels': [{'entity': '<PAD>', 'start': 0, 'end': 4, 'value': 'NLP Projects Project Name :'}]}, {'text': 'NLP Projects Project Name :', 'text_raw': ['NLP', 'Projects', 'Project', 'Name', ':'], 'labels': [{'entity': '<PAD>', 'start': 0, 'end': 4, 'value': 'NLP Projects Project Name :'}]}, {'text': 'NLP Projects Project Name :', 'text_raw': ['NLP', 'Projects', 'Project', 'Name', ':'], 'labels': [{'entity': '<PAD>', 'start': 0, 'end': 4, 'value': 'NLP Projects Project Name :'}]}, {'text': 'NLP Projects Project Name :', 'text_raw': ['NLP', 'Projects', 'Project', 'Name', ':'], 'labels': [{'entity': '<PAD>', 'start': 0, 'end': 4, 'value': 'NLP Projects Project Name :'}]}, {'text': 'NLP Projects Project Name :', 'text_raw': ['NLP', 'Projects', 'Project', 'Name', ':'], 'labels': [{'entity': '<PAD>', 'start': 0, 'end': 4, 'value': 'NLP Projects Project Name :'}]}, {'text': 'NLP Projects Project Name :', 'text_raw': ['NLP', 'Projects', 'Project', 'Name', ':'], 'labels': [{'entity': '<PAD>', 'start': 0, 'end': 4, 'value': 'NLP Projects Project Name :'}]}, {'text': 'NLP Projects Project Name :', 'text_raw': ['NLP', 'Projects', 'Project', 'Name', ':'], 'labels': [{'entity': '<PAD>', 'start': 0, 'end': 4, 'value': 'NLP Projects Project Name :'}]}, {'text': 'NLP Projects Project Name :', 'text_raw': ['NLP', 'Projects', 'Project', 'Name', ':'], 'labels': [{'entity': '<PAD>', 'start': 0, 'end': 4, 'value': 'NLP Projects Project Name :'}]}, {'text': 'NLP Projects Project Name :', 'text_raw': ['NLP', 'Projects', 'Project', 'Name', ':'], 'labels': [{'entity': '<PAD>', 'start': 0, 'end': 4, 'value': 'NLP Projects Project Name :'}]}, {'text': 'NLP Projects Project Name :', 'text_raw': ['NLP', 'Projects', 'Project', 'Name', ':'], 'labels': [{'entity': '<PAD>', 'start': 0, 'end': 4, 'value': 'NLP Projects Project Name :'}]}, {'text': 'NLP Projects Project Name :', 'text_raw': ['NLP', 'Projects', 'Project', 'Name', ':'], 'labels': [{'entity': '<PAD>', 'start': 0, 'end': 4, 'value': 'NLP Projects Project Name :'}]}, {'text': 'NLP Projects Project Name :', 'text_raw': ['NLP', 'Projects', 'Project', 'Name', ':'], 'labels': [{'entity': '<PAD>', 'start': 0, 'end': 4, 'value': 'NLP Projects Project Name :'}]}, {'text': 'NLP Projects Project Name :', 'text_raw': ['NLP', 'Projects', 'Project', 'Name', ':'], 'labels': [{'entity': '<PAD>', 'start': 0, 'end': 4, 'value': 'NLP Projects Project Name :'}]}, {'text': 'NLP Projects Project Name :', 'text_raw': ['NLP', 'Projects', 'Project', 'Name', ':'], 'labels': [{'entity': '<PAD>', 'start': 0, 'end': 4, 'value': 'NLP Projects Project Name :'}]}, {'text': 'NLP Projects Project Name :', 'text_raw': ['NLP', 'Projects', 'Project', 'Name', ':'], 'labels': [{'entity': '<PAD>', 'start': 0, 'end': 4, 'value': 'NLP Projects Project Name :'}]}, {'text': 'NLP Projects Project Name :', 'text_raw': ['NLP', 'Projects', 'Project', 'Name', ':'], 'labels': [{'entity': '<PAD>', 'start': 0, 'end': 4, 'value': 'NLP Projects Project Name :'}]}, {'text': 'NLP Projects Project Name :', 'text_raw': ['NLP', 'Projects', 'Project', 'Name', ':'], 'labels': [{'entity': '<PAD>', 'start': 0, 'end': 4, 'value': 'NLP Projects Project Name :'}]}, {'text': 'NLP Projects Project Name :', 'text_raw': ['NLP', 'Projects', 'Project', 'Name', ':'], 'labels': [{'entity': '<PAD>', 'start': 0, 'end': 4, 'value': 'NLP Projects Project Name :'}]}, {'text': 'NLP Projects Project Name :', 'text_raw': ['NLP', 'Projects', 'Project', 'Name', ':'], 'labels': [{'entity': '<PAD>', 'start': 0, 'end': 4, 'value': 'NLP Projects Project Name :'}]}, {'text': 'NLP Projects Project Name :', 'text_raw': ['NLP', 'Projects', 'Project', 'Name', ':'], 'labels': [{'entity': '<PAD>', 'start': 0, 'end': 4, 'value': 'NLP Projects Project Name :'}]}, {'text': 'NLP Projects Project Name :', 'text_raw': ['NLP', 'Projects', 'Project', 'Name', ':'], 'labels': [{'entity': '<PAD>', 'start': 0, 'end': 4, 'value': 'NLP Projects Project Name :'}]}, {'text': 'NLP Projects Project Name :', 'text_raw': ['NLP', 'Projects', 'Project', 'Name', ':'], 'labels': [{'entity': '<PAD>', 'start': 0, 'end': 4, 'value': 'NLP Projects Project Name :'}]}, {'text': 'NLP Projects Project Name :', 'text_raw': ['NLP', 'Projects', 'Project', 'Name', ':'], 'labels': [{'entity': '<PAD>', 'start': 0, 'end': 4, 'value': 'NLP Projects Project Name :'}]}, {'text': 'NLP Projects Project Name :', 'text_raw': ['NLP', 'Projects', 'Project', 'Name', ':'], 'labels': [{'entity': '<PAD>', 'start': 0, 'end': 4, 'value': 'NLP Projects Project Name :'}]}, {'text': 'NLP Projects Project Name :', 'text_raw': ['NLP', 'Projects', 'Project', 'Name', ':'], 'labels': [{'entity': '<PAD>', 'start': 0, 'end': 4, 'value': 'NLP Projects Project Name :'}]}, {'text': 'NLP Projects Project Name :', 'text_raw': ['NLP', 'Projects', 'Project', 'Name', ':'], 'labels': [{'entity': '<PAD>', 'start': 0, 'end': 4, 'value': 'NLP Projects Project Name :'}]}, {'text': 'NLP Projects Project Name :', 'text_raw': ['NLP', 'Projects', 'Project', 'Name', ':'], 'labels': [{'entity': '<PAD>', 'start': 0, 'end': 4, 'value': 'NLP Projects Project Name :'}]}, {'text': 'NLP Projects Project Name :', 'text_raw': ['NLP', 'Projects', 'Project', 'Name', ':'], 'labels': [{'entity': '<PAD>', 'start': 0, 'end': 4, 'value': 'NLP Projects Project Name :'}]}]\n"
     ]
    }
   ],
   "source": [
    "# We can build any labeling model with this embedding\n",
    "\n",
    "from kashgari.tasks.labeling import BiLSTM_Model\n",
    "model = BiLSTM_Model(embedding=stack_embedding)\n",
    "model.fit(x, y)\n",
    "\n",
    "print(model.predict(x))\n",
    "print(model.predict_entities(x))"
   ]
  },
  {
   "cell_type": "code",
   "execution_count": null,
   "metadata": {},
   "outputs": [],
   "source": []
  }
 ],
 "metadata": {
  "kernelspec": {
   "display_name": "Python 3",
   "language": "python",
   "name": "python3"
  },
  "language_info": {
   "codemirror_mode": {
    "name": "ipython",
    "version": 3
   },
   "file_extension": ".py",
   "mimetype": "text/x-python",
   "name": "python",
   "nbconvert_exporter": "python",
   "pygments_lexer": "ipython3",
   "version": "3.7.3"
  }
 },
 "nbformat": 4,
 "nbformat_minor": 2
}
