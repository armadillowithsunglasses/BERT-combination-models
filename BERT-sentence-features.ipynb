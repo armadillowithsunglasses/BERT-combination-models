{
 "cells": [
  {
   "cell_type": "code",
   "execution_count": 6,
   "metadata": {},
   "outputs": [],
   "source": [
    "from bert_serving.client import BertClient\n",
    "bc = BertClient(ip='localhost')\n"
   ]
  },
  {
   "cell_type": "code",
   "execution_count": 4,
   "metadata": {},
   "outputs": [
    {
     "data": {
      "text/plain": [
       "array([[[-0.10847086,  0.48369998, -0.6608409 , ..., -0.46527883,\n",
       "         -0.65916383,  0.48587757],\n",
       "        [ 0.30433792,  0.95714194, -1.3424073 , ..., -0.60565674,\n",
       "          0.31894195, -0.85810626],\n",
       "        [ 0.45341295,  0.68130076, -0.7410945 , ..., -0.589681  ,\n",
       "         -0.62858564, -0.9916705 ],\n",
       "        ...,\n",
       "        [ 0.        ,  0.        ,  0.        , ...,  0.        ,\n",
       "         -0.        ,  0.        ],\n",
       "        [ 0.        ,  0.        , -0.        , ...,  0.        ,\n",
       "         -0.        ,  0.        ],\n",
       "        [ 0.        ,  0.        , -0.        , ...,  0.        ,\n",
       "         -0.        ,  0.        ]]], dtype=float32)"
      ]
     },
     "execution_count": 4,
     "metadata": {},
     "output_type": "execute_result"
    }
   ],
   "source": [
    "bc.encode(['First do it'])"
   ]
  },
  {
   "cell_type": "code",
   "execution_count": 5,
   "metadata": {},
   "outputs": [
    {
     "data": {
      "text/plain": [
       "array([[[-1.5860474 ,  0.17246686, -0.4189722 , ..., -0.11394168,\n",
       "         -0.7685492 ,  0.02086591],\n",
       "        [-1.1937233 ,  0.6255282 ,  0.3033933 , ...,  0.05987255,\n",
       "          0.15557408, -1.930783  ],\n",
       "        [-1.4002287 ,  0.17073146,  0.30045044, ...,  0.5605719 ,\n",
       "         -1.3962731 , -0.33547014],\n",
       "        ...,\n",
       "        [-0.        , -0.        , -0.        , ...,  0.        ,\n",
       "         -0.        , -0.        ],\n",
       "        [-0.        , -0.        , -0.        , ...,  0.        ,\n",
       "         -0.        , -0.        ],\n",
       "        [-0.        ,  0.        , -0.        , ...,  0.        ,\n",
       "         -0.        , -0.        ]]], dtype=float32)"
      ]
     },
     "execution_count": 5,
     "metadata": {},
     "output_type": "execute_result"
    }
   ],
   "source": [
    "bc.encode(['First in rank'])"
   ]
  },
  {
   "cell_type": "code",
   "execution_count": 6,
   "metadata": {},
   "outputs": [
    {
     "data": {
      "text/plain": [
       "array([[[-0.21317168,  0.43110147, -0.06611649, ..., -0.4282554 ,\n",
       "         -0.22932789,  0.35237265],\n",
       "        [ 0.02863314,  0.4416353 ,  0.82376266, ..., -0.5983918 ,\n",
       "          0.05883857, -0.17645824],\n",
       "        [-0.66310173, -0.15027443, -0.03199216, ..., -0.60440654,\n",
       "          0.5144189 ,  0.30710906],\n",
       "        ...,\n",
       "        [-0.        ,  0.        ,  0.        , ..., -0.        ,\n",
       "          0.        ,  0.        ],\n",
       "        [-0.        ,  0.        ,  0.        , ..., -0.        ,\n",
       "         -0.        ,  0.        ],\n",
       "        [-0.        ,  0.        ,  0.        , ..., -0.        ,\n",
       "         -0.        ,  0.        ]]], dtype=float32)"
      ]
     },
     "execution_count": 6,
     "metadata": {},
     "output_type": "execute_result"
    }
   ],
   "source": [
    "bc.encode(['hello my name is tom'])"
   ]
  },
  {
   "cell_type": "code",
   "execution_count": 8,
   "metadata": {},
   "outputs": [
    {
     "data": {
      "text/plain": [
       "array([[[ 0.56504476, -0.32469544, -0.14457765, ..., -0.18581402,\n",
       "          0.12786102,  0.31145117],\n",
       "        [ 0.21065837, -0.05404376, -0.46402657, ..., -0.19631086,\n",
       "          0.4656114 ,  0.42630127],\n",
       "        [ 0.06033225,  0.04243732, -0.0132934 , ..., -0.00459049,\n",
       "         -0.03767042,  0.02580941],\n",
       "        ...,\n",
       "        [-0.        , -0.        ,  0.        , ..., -0.        ,\n",
       "         -0.        ,  0.        ],\n",
       "        [-0.        , -0.        ,  0.        , ..., -0.        ,\n",
       "         -0.        ,  0.        ],\n",
       "        [-0.        , -0.        ,  0.        , ...,  0.        ,\n",
       "         -0.        ,  0.        ]]], dtype=float32)"
      ]
     },
     "execution_count": 8,
     "metadata": {},
     "output_type": "execute_result"
    }
   ],
   "source": [
    "bc.encode(['However, sometimes we want to do it in an asynchronous manner by feeding all textual data to the server first, fetching the encoded results later'])"
   ]
  },
  {
   "cell_type": "code",
   "execution_count": 7,
   "metadata": {},
   "outputs": [
    {
     "data": {
      "text/plain": [
       "array([[[-0.37372   ,  0.16074404, -0.07848654, ..., -1.0260031 ,\n",
       "         -0.19369254,  0.21589513],\n",
       "        [-0.48952064, -0.1536709 ,  0.88063574, ..., -0.24735449,\n",
       "         -0.32796454,  0.06868085],\n",
       "        [-1.300682  , -0.5965649 ,  0.10848968, ..., -0.74693483,\n",
       "          0.18644926, -0.42691255],\n",
       "        ...,\n",
       "        [-0.        , -0.        ,  0.        , ..., -0.        ,\n",
       "         -0.        ,  0.        ],\n",
       "        [-0.        , -0.        ,  0.        , ..., -0.        ,\n",
       "         -0.        , -0.        ],\n",
       "        [-0.        , -0.        ,  0.        , ..., -0.        ,\n",
       "         -0.        ,  0.        ]]], dtype=float32)"
      ]
     },
     "execution_count": 7,
     "metadata": {},
     "output_type": "execute_result"
    }
   ],
   "source": [
    "bc.encode(['hello world'])"
   ]
  },
  {
   "cell_type": "code",
   "execution_count": null,
   "metadata": {},
   "outputs": [],
   "source": []
  }
 ],
 "metadata": {
  "kernelspec": {
   "display_name": "Python 3",
   "language": "python",
   "name": "python3"
  },
  "language_info": {
   "codemirror_mode": {
    "name": "ipython",
    "version": 3
   },
   "file_extension": ".py",
   "mimetype": "text/x-python",
   "name": "python",
   "nbconvert_exporter": "python",
   "pygments_lexer": "ipython3",
   "version": "3.7.3"
  }
 },
 "nbformat": 4,
 "nbformat_minor": 2
}
